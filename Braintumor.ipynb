{
  "nbformat": 4,
  "nbformat_minor": 0,
  "metadata": {
    "colab": {
      "provenance": [],
      "gpuType": "T4",
      "mount_file_id": "1tf1vRfoGIv6rdC5rljSHyvW5lAmIcvIT",
      "authorship_tag": "ABX9TyMu/SEYgRPVxSwTeuZQnGpr",
      "include_colab_link": true
    },
    "kernelspec": {
      "name": "python3",
      "display_name": "Python 3"
    },
    "language_info": {
      "name": "python"
    },
    "accelerator": "GPU"
  },
  "cells": [
    {
      "cell_type": "markdown",
      "metadata": {
        "id": "view-in-github",
        "colab_type": "text"
      },
      "source": [
        "<a href=\"https://colab.research.google.com/github/Ankesh-53669/Brain-tumor-detection/blob/main/Braintumor.ipynb\" target=\"_parent\"><img src=\"https://colab.research.google.com/assets/colab-badge.svg\" alt=\"Open In Colab\"/></a>"
      ]
    },
    {
      "cell_type": "code",
      "execution_count": null,
      "metadata": {
        "id": "9h0cTYrTbig8"
      },
      "outputs": [],
      "source": [
        "import pandas as pd\n",
        "import seaborn as sns\n",
        "import matplotlib.pyplot as sns"
      ]
    },
    {
      "cell_type": "code",
      "source": [
        "from google.colab import drive\n",
        "drive.mount('/content/drive')"
      ],
      "metadata": {
        "colab": {
          "base_uri": "https://localhost:8080/"
        },
        "id": "OxQMc0M-Y54_",
        "outputId": "15d863fc-5822-431b-a315-b0b33fda24cc"
      },
      "execution_count": null,
      "outputs": [
        {
          "output_type": "stream",
          "name": "stdout",
          "text": [
            "Drive already mounted at /content/drive; to attempt to forcibly remount, call drive.mount(\"/content/drive\", force_remount=True).\n"
          ]
        }
      ]
    },
    {
      "cell_type": "markdown",
      "source": [],
      "metadata": {
        "id": "ssDBP62qr1Ay"
      }
    },
    {
      "cell_type": "code",
      "source": [
        "from tensorflow.keras.layers import Dense, Flatten, Conv2D, MaxPooling2D, Rescaling\n",
        "from tensorflow.keras.models import Sequential\n",
        "\n",
        "\n",
        "from tensorflow.keras.utils import image_dataset_from_directory"
      ],
      "metadata": {
        "id": "htXtzXZ5m4eZ"
      },
      "execution_count": null,
      "outputs": []
    },
    {
      "cell_type": "code",
      "source": [
        "train_path = '/content/drive/MyDrive/datasets cv/archive/train'\n",
        "test_path = '/content/drive/MyDrive/datasets cv/archive/brain_tumor_dataset'\n",
        "train_data = image_dataset_from_directory(\n",
        "    directory = train_path,\n",
        "    image_size=(180,180),\n",
        "    batch_size = 32\n",
        ")\n",
        "\n",
        "test_data = image_dataset_from_directory(\n",
        "    directory = test_path,\n",
        "    image_size=(180,180),\n",
        "    batch_size = 32\n",
        ")"
      ],
      "metadata": {
        "colab": {
          "base_uri": "https://localhost:8080/"
        },
        "id": "TxhnjJo2m4g_",
        "outputId": "d26a5939-bf17-4c41-edab-76e5704b4cd7"
      },
      "execution_count": null,
      "outputs": [
        {
          "output_type": "stream",
          "name": "stdout",
          "text": [
            "Found 253 files belonging to 2 classes.\n",
            "Found 253 files belonging to 2 classes.\n"
          ]
        }
      ]
    },
    {
      "cell_type": "code",
      "source": [
        "train_data.class_names"
      ],
      "metadata": {
        "colab": {
          "base_uri": "https://localhost:8080/"
        },
        "id": "-rNRAJvCm4jo",
        "outputId": "97c5923b-6139-450a-caa6-3574ebe95118"
      },
      "execution_count": null,
      "outputs": [
        {
          "output_type": "execute_result",
          "data": {
            "text/plain": [
              "['no', 'yes']"
            ]
          },
          "metadata": {},
          "execution_count": 5
        }
      ]
    },
    {
      "cell_type": "code",
      "source": [
        "model = Sequential()\n",
        "model.add(Rescaling(1./255, input_shape=(180,180,3)))\n",
        "model.add(Conv2D(16, (3,3), padding='same'))\n",
        "model.add(MaxPooling2D())\n",
        "model.add(Conv2D(64, (3,3), padding='same'))\n",
        "model.add(MaxPooling2D())\n",
        "model.add(Flatten())\n",
        "model.add(Dense(128,activation=\"relu\"))\n",
        "model.add(Dense(1, activation=\"sigmoid\"))\n",
        "\n",
        "model.compile(loss=\"binary_crossentropy\",optimizer=\"adam\", metrics=[\"accuracy\"])\n",
        "\n",
        "model.fit(train_data, validation_data=test_data,epochs=5)"
      ],
      "metadata": {
        "colab": {
          "base_uri": "https://localhost:8080/"
        },
        "id": "4c5Dc8bum4mN",
        "outputId": "3473669d-42b5-4a5d-e454-3b8b41b78650"
      },
      "execution_count": null,
      "outputs": [
        {
          "output_type": "stream",
          "name": "stdout",
          "text": [
            "Epoch 1/5\n",
            "8/8 [==============================] - 64s 5s/step - loss: 2.9837 - accuracy: 0.5731 - val_loss: 7.3056 - val_accuracy: 0.3874\n",
            "Epoch 2/5\n",
            "8/8 [==============================] - 1s 110ms/step - loss: 1.8982 - accuracy: 0.6877 - val_loss: 0.6260 - val_accuracy: 0.7747\n",
            "Epoch 3/5\n",
            "8/8 [==============================] - 1s 119ms/step - loss: 0.6990 - accuracy: 0.7549 - val_loss: 0.4866 - val_accuracy: 0.8419\n",
            "Epoch 4/5\n",
            "8/8 [==============================] - 1s 99ms/step - loss: 0.3659 - accuracy: 0.8538 - val_loss: 0.2967 - val_accuracy: 0.9328\n",
            "Epoch 5/5\n",
            "8/8 [==============================] - 1s 105ms/step - loss: 0.2580 - accuracy: 0.9289 - val_loss: 0.1940 - val_accuracy: 0.9447\n"
          ]
        },
        {
          "output_type": "execute_result",
          "data": {
            "text/plain": [
              "<keras.src.callbacks.History at 0x7d9fcc230e20>"
            ]
          },
          "metadata": {},
          "execution_count": 6
        }
      ]
    },
    {
      "cell_type": "code",
      "source": [
        "from tensorflow.keras.layers import RandomFlip, RandomRotation, RandomZoom\n",
        "model2 = Sequential()\n",
        "model2.add(RandomFlip(\"horizontal\",input_shape=(180,180, 3)))\n",
        "model2.add(RandomRotation(0.1))\n",
        "model2.add(RandomZoom(0.1))\n",
        "model2.add(Rescaling(1./255))\n",
        "model2.add(Conv2D(16, (3,3), padding='same'))\n",
        "model2.add(MaxPooling2D())\n",
        "model2.add(Conv2D(64, (3,3), padding='same'))\n",
        "model2.add(MaxPooling2D())\n",
        "model2.add(Flatten())\n",
        "model2.add(Dense(128,activation=\"relu\"))\n",
        "model2.add(Dense(1, activation=\"sigmoid\"))\n",
        "\n",
        "model2.compile(loss=\"binary_crossentropy\",optimizer=\"adam\", metrics=[\"accuracy\"])\n",
        "\n",
        "model2.fit(train_data, validation_data=test_data,epochs=5)"
      ],
      "metadata": {
        "colab": {
          "base_uri": "https://localhost:8080/"
        },
        "id": "OlA1mG85m4oi",
        "outputId": "d0dc15e0-7739-4761-e608-30b479805a83"
      },
      "execution_count": null,
      "outputs": [
        {
          "output_type": "stream",
          "name": "stdout",
          "text": [
            "Epoch 1/5\n",
            "8/8 [==============================] - 5s 252ms/step - loss: 3.7885 - accuracy: 0.5771 - val_loss: 0.6745 - val_accuracy: 0.7628\n",
            "Epoch 2/5\n",
            "8/8 [==============================] - 1s 115ms/step - loss: 1.2111 - accuracy: 0.6522 - val_loss: 0.7149 - val_accuracy: 0.7826\n",
            "Epoch 3/5\n",
            "8/8 [==============================] - 1s 113ms/step - loss: 0.7018 - accuracy: 0.7391 - val_loss: 0.4562 - val_accuracy: 0.8182\n",
            "Epoch 4/5\n",
            "8/8 [==============================] - 1s 108ms/step - loss: 0.5301 - accuracy: 0.7510 - val_loss: 0.4716 - val_accuracy: 0.7668\n",
            "Epoch 5/5\n",
            "8/8 [==============================] - 1s 105ms/step - loss: 0.4809 - accuracy: 0.7905 - val_loss: 0.4755 - val_accuracy: 0.7628\n"
          ]
        },
        {
          "output_type": "execute_result",
          "data": {
            "text/plain": [
              "<keras.src.callbacks.History at 0x7d9fb019cd30>"
            ]
          },
          "metadata": {},
          "execution_count": 7
        }
      ]
    },
    {
      "cell_type": "code",
      "source": [
        "from tensorflow.keras.applications import VGG16\n",
        "vgg16 = VGG16(weights='imagenet', include_top=False)\n",
        "vgg16.summary()"
      ],
      "metadata": {
        "colab": {
          "base_uri": "https://localhost:8080/"
        },
        "id": "WfKpCYQkm4q7",
        "outputId": "1e2eee0a-fb25-4339-9078-56dbe05ed5d9"
      },
      "execution_count": null,
      "outputs": [
        {
          "output_type": "stream",
          "name": "stdout",
          "text": [
            "Downloading data from https://storage.googleapis.com/tensorflow/keras-applications/vgg16/vgg16_weights_tf_dim_ordering_tf_kernels_notop.h5\n",
            "58889256/58889256 [==============================] - 0s 0us/step\n",
            "Model: \"vgg16\"\n",
            "_________________________________________________________________\n",
            " Layer (type)                Output Shape              Param #   \n",
            "=================================================================\n",
            " input_1 (InputLayer)        [(None, None, None, 3)]   0         \n",
            "                                                                 \n",
            " block1_conv1 (Conv2D)       (None, None, None, 64)    1792      \n",
            "                                                                 \n",
            " block1_conv2 (Conv2D)       (None, None, None, 64)    36928     \n",
            "                                                                 \n",
            " block1_pool (MaxPooling2D)  (None, None, None, 64)    0         \n",
            "                                                                 \n",
            " block2_conv1 (Conv2D)       (None, None, None, 128)   73856     \n",
            "                                                                 \n",
            " block2_conv2 (Conv2D)       (None, None, None, 128)   147584    \n",
            "                                                                 \n",
            " block2_pool (MaxPooling2D)  (None, None, None, 128)   0         \n",
            "                                                                 \n",
            " block3_conv1 (Conv2D)       (None, None, None, 256)   295168    \n",
            "                                                                 \n",
            " block3_conv2 (Conv2D)       (None, None, None, 256)   590080    \n",
            "                                                                 \n",
            " block3_conv3 (Conv2D)       (None, None, None, 256)   590080    \n",
            "                                                                 \n",
            " block3_pool (MaxPooling2D)  (None, None, None, 256)   0         \n",
            "                                                                 \n",
            " block4_conv1 (Conv2D)       (None, None, None, 512)   1180160   \n",
            "                                                                 \n",
            " block4_conv2 (Conv2D)       (None, None, None, 512)   2359808   \n",
            "                                                                 \n",
            " block4_conv3 (Conv2D)       (None, None, None, 512)   2359808   \n",
            "                                                                 \n",
            " block4_pool (MaxPooling2D)  (None, None, None, 512)   0         \n",
            "                                                                 \n",
            " block5_conv1 (Conv2D)       (None, None, None, 512)   2359808   \n",
            "                                                                 \n",
            " block5_conv2 (Conv2D)       (None, None, None, 512)   2359808   \n",
            "                                                                 \n",
            " block5_conv3 (Conv2D)       (None, None, None, 512)   2359808   \n",
            "                                                                 \n",
            " block5_pool (MaxPooling2D)  (None, None, None, 512)   0         \n",
            "                                                                 \n",
            "=================================================================\n",
            "Total params: 14714688 (56.13 MB)\n",
            "Trainable params: 14714688 (56.13 MB)\n",
            "Non-trainable params: 0 (0.00 Byte)\n",
            "_________________________________________________________________\n"
          ]
        }
      ]
    },
    {
      "cell_type": "code",
      "source": [
        "model3 = Sequential()\n",
        "model3.add(Rescaling(1./255, input_shape=(180, 180, 3)))\n",
        "model3.add(vgg16)\n",
        "model3.add(Flatten())\n",
        "model3.add(Dense(128, activation=\"relu\"))\n",
        "model3.add(Dense(1, activation='sigmoid'))\n",
        "\n",
        "vgg16.trainable = False\n",
        "\n",
        "model3.compile(loss=\"binary_crossentropy\",optimizer=\"adam\", metrics=[\"accuracy\"])\n",
        "model3.fit(train_data, validation_data=test_data,epochs=5)"
      ],
      "metadata": {
        "colab": {
          "base_uri": "https://localhost:8080/"
        },
        "id": "REnNg9GZm4ti",
        "outputId": "26447e03-e679-499f-fa67-434481df22e0"
      },
      "execution_count": null,
      "outputs": [
        {
          "output_type": "stream",
          "name": "stdout",
          "text": [
            "Epoch 1/5\n",
            "8/8 [==============================] - 13s 901ms/step - loss: 1.0755 - accuracy: 0.6047 - val_loss: 0.6284 - val_accuracy: 0.7431\n",
            "Epoch 2/5\n",
            "8/8 [==============================] - 2s 240ms/step - loss: 0.4502 - accuracy: 0.8063 - val_loss: 0.3077 - val_accuracy: 0.8696\n",
            "Epoch 3/5\n",
            "8/8 [==============================] - 2s 248ms/step - loss: 0.2730 - accuracy: 0.8972 - val_loss: 0.2599 - val_accuracy: 0.8814\n",
            "Epoch 4/5\n",
            "8/8 [==============================] - 4s 454ms/step - loss: 0.1965 - accuracy: 0.9407 - val_loss: 0.2150 - val_accuracy: 0.9209\n",
            "Epoch 5/5\n",
            "8/8 [==============================] - 2s 245ms/step - loss: 0.1810 - accuracy: 0.9407 - val_loss: 0.1318 - val_accuracy: 0.9684\n"
          ]
        },
        {
          "output_type": "execute_result",
          "data": {
            "text/plain": [
              "<keras.src.callbacks.History at 0x7d9f4ea5d840>"
            ]
          },
          "metadata": {},
          "execution_count": 9
        }
      ]
    },
    {
      "cell_type": "code",
      "source": [
        "from tensorflow.keras.preprocessing import image\n",
        "import numpy as np\n",
        "\n",
        "def predict_image(img_path):\n",
        "  img = image.load_img(img_path, target_size=(180, 180))\n",
        "  img_array = image.img_to_array(img)\n",
        "  img_batch = np.expand_dims(img_array, axis=0)\n",
        "  result = model3.predict(img_batch)\n",
        "  if result >= 0.5:\n",
        "    return \"the patient is having tumour\"\n",
        "  else:\n",
        "    return \"no tumour\"\n"
      ],
      "metadata": {
        "id": "3ZxKV4AbqPQ3"
      },
      "execution_count": null,
      "outputs": []
    },
    {
      "cell_type": "code",
      "source": [
        "predict_image(\"/content/drive/MyDrive/datasets cv/archive/train/yes/Y102.jpg\")"
      ],
      "metadata": {
        "colab": {
          "base_uri": "https://localhost:8080/",
          "height": 52
        },
        "id": "L_tKuVhnqPVQ",
        "outputId": "b7c4c29a-d447-41d8-bc89-92f701649d9f"
      },
      "execution_count": null,
      "outputs": [
        {
          "output_type": "stream",
          "name": "stdout",
          "text": [
            "1/1 [==============================] - 1s 982ms/step\n"
          ]
        },
        {
          "output_type": "execute_result",
          "data": {
            "text/plain": [
              "'the patient is having tumour'"
            ],
            "application/vnd.google.colaboratory.intrinsic+json": {
              "type": "string"
            }
          },
          "metadata": {},
          "execution_count": 11
        }
      ]
    },
    {
      "cell_type": "code",
      "source": [
        "predict_image(\"/content/drive/MyDrive/datasets cv/brain1-20140731113300522.jpg\")"
      ],
      "metadata": {
        "id": "24Z0-jPWrltE",
        "colab": {
          "base_uri": "https://localhost:8080/",
          "height": 52
        },
        "outputId": "3df36bcf-b9c6-48ba-b887-abf24434038a"
      },
      "execution_count": null,
      "outputs": [
        {
          "output_type": "stream",
          "name": "stdout",
          "text": [
            "1/1 [==============================] - 0s 28ms/step\n"
          ]
        },
        {
          "output_type": "execute_result",
          "data": {
            "text/plain": [
              "'no tumour'"
            ],
            "application/vnd.google.colaboratory.intrinsic+json": {
              "type": "string"
            }
          },
          "metadata": {},
          "execution_count": 12
        }
      ]
    },
    {
      "cell_type": "code",
      "source": [
        "predict_image(\"/content/drive/MyDrive/datasets cv/CT-brain-tumour-image.png\")"
      ],
      "metadata": {
        "id": "RvNxdd6sqPYZ",
        "colab": {
          "base_uri": "https://localhost:8080/",
          "height": 52
        },
        "outputId": "8d676dac-8bc7-4bf7-e437-e65f7ad50bb4"
      },
      "execution_count": null,
      "outputs": [
        {
          "output_type": "stream",
          "name": "stdout",
          "text": [
            "1/1 [==============================] - 0s 18ms/step\n"
          ]
        },
        {
          "output_type": "execute_result",
          "data": {
            "text/plain": [
              "'the patient is having tumour'"
            ],
            "application/vnd.google.colaboratory.intrinsic+json": {
              "type": "string"
            }
          },
          "metadata": {},
          "execution_count": 13
        }
      ]
    },
    {
      "cell_type": "code",
      "source": [
        "predict_image(\"/content/drive/MyDrive/datasets cv/1_BGxLxoHd8MG9m8gesYIprw.jpg\")"
      ],
      "metadata": {
        "id": "tN7P0KstqPcB",
        "colab": {
          "base_uri": "https://localhost:8080/",
          "height": 52
        },
        "outputId": "471dbc0a-f822-4857-a259-62b8fc155fce"
      },
      "execution_count": null,
      "outputs": [
        {
          "output_type": "stream",
          "name": "stdout",
          "text": [
            "1/1 [==============================] - 0s 19ms/step\n"
          ]
        },
        {
          "output_type": "execute_result",
          "data": {
            "text/plain": [
              "'no tumour'"
            ],
            "application/vnd.google.colaboratory.intrinsic+json": {
              "type": "string"
            }
          },
          "metadata": {},
          "execution_count": 14
        }
      ]
    },
    {
      "cell_type": "code",
      "source": [],
      "metadata": {
        "id": "xLTw7Yg5qPe7"
      },
      "execution_count": null,
      "outputs": []
    }
  ]
}